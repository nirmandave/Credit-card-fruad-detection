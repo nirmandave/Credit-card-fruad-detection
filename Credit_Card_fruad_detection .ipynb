{
 "cells": [
  {
   "cell_type": "code",
   "execution_count": 1,
   "id": "0de7c9ca",
   "metadata": {},
   "outputs": [],
   "source": [
    "#here we are analysing Credit Card dataset (creditcard.csv) to detect fraudulent transaction and genuine transaction"
   ]
  },
  {
   "cell_type": "code",
   "execution_count": 2,
   "id": "c70ee02f",
   "metadata": {},
   "outputs": [],
   "source": [
    "#importing basic library \n",
    "import numpy as np\n",
    "import pandas as pd\n",
    "import seaborn as sb\n",
    "import matplotlib.pyplot as plt\n",
    "import warnings\n",
    "warnings.filterwarnings(\"ignore\")"
   ]
  },
  {
   "cell_type": "code",
   "execution_count": 3,
   "id": "a75d2580",
   "metadata": {},
   "outputs": [],
   "source": [
    "#laoding the dataset \n",
    "df=pd.read_csv(\"creditcard.csv\")"
   ]
  },
  {
   "cell_type": "code",
   "execution_count": 4,
   "id": "1fd3799c",
   "metadata": {},
   "outputs": [
    {
     "data": {
      "text/html": [
       "<div>\n",
       "<style scoped>\n",
       "    .dataframe tbody tr th:only-of-type {\n",
       "        vertical-align: middle;\n",
       "    }\n",
       "\n",
       "    .dataframe tbody tr th {\n",
       "        vertical-align: top;\n",
       "    }\n",
       "\n",
       "    .dataframe thead th {\n",
       "        text-align: right;\n",
       "    }\n",
       "</style>\n",
       "<table border=\"1\" class=\"dataframe\">\n",
       "  <thead>\n",
       "    <tr style=\"text-align: right;\">\n",
       "      <th></th>\n",
       "      <th>Time</th>\n",
       "      <th>V1</th>\n",
       "      <th>V2</th>\n",
       "      <th>V3</th>\n",
       "      <th>V4</th>\n",
       "      <th>V5</th>\n",
       "      <th>V6</th>\n",
       "      <th>V7</th>\n",
       "      <th>V8</th>\n",
       "      <th>V9</th>\n",
       "      <th>...</th>\n",
       "      <th>V21</th>\n",
       "      <th>V22</th>\n",
       "      <th>V23</th>\n",
       "      <th>V24</th>\n",
       "      <th>V25</th>\n",
       "      <th>V26</th>\n",
       "      <th>V27</th>\n",
       "      <th>V28</th>\n",
       "      <th>Amount</th>\n",
       "      <th>Class</th>\n",
       "    </tr>\n",
       "  </thead>\n",
       "  <tbody>\n",
       "    <tr>\n",
       "      <th>0</th>\n",
       "      <td>0.0</td>\n",
       "      <td>-1.359807</td>\n",
       "      <td>-0.072781</td>\n",
       "      <td>2.536347</td>\n",
       "      <td>1.378155</td>\n",
       "      <td>-0.338321</td>\n",
       "      <td>0.462388</td>\n",
       "      <td>0.239599</td>\n",
       "      <td>0.098698</td>\n",
       "      <td>0.363787</td>\n",
       "      <td>...</td>\n",
       "      <td>-0.018307</td>\n",
       "      <td>0.277838</td>\n",
       "      <td>-0.110474</td>\n",
       "      <td>0.066928</td>\n",
       "      <td>0.128539</td>\n",
       "      <td>-0.189115</td>\n",
       "      <td>0.133558</td>\n",
       "      <td>-0.021053</td>\n",
       "      <td>149.62</td>\n",
       "      <td>0</td>\n",
       "    </tr>\n",
       "    <tr>\n",
       "      <th>1</th>\n",
       "      <td>0.0</td>\n",
       "      <td>1.191857</td>\n",
       "      <td>0.266151</td>\n",
       "      <td>0.166480</td>\n",
       "      <td>0.448154</td>\n",
       "      <td>0.060018</td>\n",
       "      <td>-0.082361</td>\n",
       "      <td>-0.078803</td>\n",
       "      <td>0.085102</td>\n",
       "      <td>-0.255425</td>\n",
       "      <td>...</td>\n",
       "      <td>-0.225775</td>\n",
       "      <td>-0.638672</td>\n",
       "      <td>0.101288</td>\n",
       "      <td>-0.339846</td>\n",
       "      <td>0.167170</td>\n",
       "      <td>0.125895</td>\n",
       "      <td>-0.008983</td>\n",
       "      <td>0.014724</td>\n",
       "      <td>2.69</td>\n",
       "      <td>0</td>\n",
       "    </tr>\n",
       "    <tr>\n",
       "      <th>2</th>\n",
       "      <td>1.0</td>\n",
       "      <td>-1.358354</td>\n",
       "      <td>-1.340163</td>\n",
       "      <td>1.773209</td>\n",
       "      <td>0.379780</td>\n",
       "      <td>-0.503198</td>\n",
       "      <td>1.800499</td>\n",
       "      <td>0.791461</td>\n",
       "      <td>0.247676</td>\n",
       "      <td>-1.514654</td>\n",
       "      <td>...</td>\n",
       "      <td>0.247998</td>\n",
       "      <td>0.771679</td>\n",
       "      <td>0.909412</td>\n",
       "      <td>-0.689281</td>\n",
       "      <td>-0.327642</td>\n",
       "      <td>-0.139097</td>\n",
       "      <td>-0.055353</td>\n",
       "      <td>-0.059752</td>\n",
       "      <td>378.66</td>\n",
       "      <td>0</td>\n",
       "    </tr>\n",
       "    <tr>\n",
       "      <th>3</th>\n",
       "      <td>1.0</td>\n",
       "      <td>-0.966272</td>\n",
       "      <td>-0.185226</td>\n",
       "      <td>1.792993</td>\n",
       "      <td>-0.863291</td>\n",
       "      <td>-0.010309</td>\n",
       "      <td>1.247203</td>\n",
       "      <td>0.237609</td>\n",
       "      <td>0.377436</td>\n",
       "      <td>-1.387024</td>\n",
       "      <td>...</td>\n",
       "      <td>-0.108300</td>\n",
       "      <td>0.005274</td>\n",
       "      <td>-0.190321</td>\n",
       "      <td>-1.175575</td>\n",
       "      <td>0.647376</td>\n",
       "      <td>-0.221929</td>\n",
       "      <td>0.062723</td>\n",
       "      <td>0.061458</td>\n",
       "      <td>123.50</td>\n",
       "      <td>0</td>\n",
       "    </tr>\n",
       "    <tr>\n",
       "      <th>4</th>\n",
       "      <td>2.0</td>\n",
       "      <td>-1.158233</td>\n",
       "      <td>0.877737</td>\n",
       "      <td>1.548718</td>\n",
       "      <td>0.403034</td>\n",
       "      <td>-0.407193</td>\n",
       "      <td>0.095921</td>\n",
       "      <td>0.592941</td>\n",
       "      <td>-0.270533</td>\n",
       "      <td>0.817739</td>\n",
       "      <td>...</td>\n",
       "      <td>-0.009431</td>\n",
       "      <td>0.798278</td>\n",
       "      <td>-0.137458</td>\n",
       "      <td>0.141267</td>\n",
       "      <td>-0.206010</td>\n",
       "      <td>0.502292</td>\n",
       "      <td>0.219422</td>\n",
       "      <td>0.215153</td>\n",
       "      <td>69.99</td>\n",
       "      <td>0</td>\n",
       "    </tr>\n",
       "  </tbody>\n",
       "</table>\n",
       "<p>5 rows × 31 columns</p>\n",
       "</div>"
      ],
      "text/plain": [
       "   Time        V1        V2        V3        V4        V5        V6        V7  \\\n",
       "0   0.0 -1.359807 -0.072781  2.536347  1.378155 -0.338321  0.462388  0.239599   \n",
       "1   0.0  1.191857  0.266151  0.166480  0.448154  0.060018 -0.082361 -0.078803   \n",
       "2   1.0 -1.358354 -1.340163  1.773209  0.379780 -0.503198  1.800499  0.791461   \n",
       "3   1.0 -0.966272 -0.185226  1.792993 -0.863291 -0.010309  1.247203  0.237609   \n",
       "4   2.0 -1.158233  0.877737  1.548718  0.403034 -0.407193  0.095921  0.592941   \n",
       "\n",
       "         V8        V9  ...       V21       V22       V23       V24       V25  \\\n",
       "0  0.098698  0.363787  ... -0.018307  0.277838 -0.110474  0.066928  0.128539   \n",
       "1  0.085102 -0.255425  ... -0.225775 -0.638672  0.101288 -0.339846  0.167170   \n",
       "2  0.247676 -1.514654  ...  0.247998  0.771679  0.909412 -0.689281 -0.327642   \n",
       "3  0.377436 -1.387024  ... -0.108300  0.005274 -0.190321 -1.175575  0.647376   \n",
       "4 -0.270533  0.817739  ... -0.009431  0.798278 -0.137458  0.141267 -0.206010   \n",
       "\n",
       "        V26       V27       V28  Amount  Class  \n",
       "0 -0.189115  0.133558 -0.021053  149.62      0  \n",
       "1  0.125895 -0.008983  0.014724    2.69      0  \n",
       "2 -0.139097 -0.055353 -0.059752  378.66      0  \n",
       "3 -0.221929  0.062723  0.061458  123.50      0  \n",
       "4  0.502292  0.219422  0.215153   69.99      0  \n",
       "\n",
       "[5 rows x 31 columns]"
      ]
     },
     "execution_count": 4,
     "metadata": {},
     "output_type": "execute_result"
    }
   ],
   "source": [
    "#first look of dataset\n",
    "df.head()"
   ]
  },
  {
   "cell_type": "code",
   "execution_count": 5,
   "id": "d9f2aee6",
   "metadata": {},
   "outputs": [
    {
     "data": {
      "text/plain": [
       "(284807, 31)"
      ]
     },
     "execution_count": 5,
     "metadata": {},
     "output_type": "execute_result"
    }
   ],
   "source": [
    "#number of rows and column in dataset \n",
    "df.shape"
   ]
  },
  {
   "cell_type": "code",
   "execution_count": 6,
   "id": "285ee06d",
   "metadata": {},
   "outputs": [
    {
     "data": {
      "text/plain": [
       "Time      float64\n",
       "V1        float64\n",
       "V2        float64\n",
       "V3        float64\n",
       "V4        float64\n",
       "V5        float64\n",
       "V6        float64\n",
       "V7        float64\n",
       "V8        float64\n",
       "V9        float64\n",
       "V10       float64\n",
       "V11       float64\n",
       "V12       float64\n",
       "V13       float64\n",
       "V14       float64\n",
       "V15       float64\n",
       "V16       float64\n",
       "V17       float64\n",
       "V18       float64\n",
       "V19       float64\n",
       "V20       float64\n",
       "V21       float64\n",
       "V22       float64\n",
       "V23       float64\n",
       "V24       float64\n",
       "V25       float64\n",
       "V26       float64\n",
       "V27       float64\n",
       "V28       float64\n",
       "Amount    float64\n",
       "Class       int64\n",
       "dtype: object"
      ]
     },
     "execution_count": 6,
     "metadata": {},
     "output_type": "execute_result"
    }
   ],
   "source": [
    "#data types of each column\n",
    "df.dtypes"
   ]
  },
  {
   "cell_type": "code",
   "execution_count": 7,
   "id": "fe2c24c4",
   "metadata": {},
   "outputs": [
    {
     "data": {
      "text/plain": [
       "Time      0\n",
       "V1        0\n",
       "V2        0\n",
       "V3        0\n",
       "V4        0\n",
       "V5        0\n",
       "V6        0\n",
       "V7        0\n",
       "V8        0\n",
       "V9        0\n",
       "V10       0\n",
       "V11       0\n",
       "V12       0\n",
       "V13       0\n",
       "V14       0\n",
       "V15       0\n",
       "V16       0\n",
       "V17       0\n",
       "V18       0\n",
       "V19       0\n",
       "V20       0\n",
       "V21       0\n",
       "V22       0\n",
       "V23       0\n",
       "V24       0\n",
       "V25       0\n",
       "V26       0\n",
       "V27       0\n",
       "V28       0\n",
       "Amount    0\n",
       "Class     0\n",
       "dtype: int64"
      ]
     },
     "execution_count": 7,
     "metadata": {},
     "output_type": "execute_result"
    }
   ],
   "source": [
    "#checking null values\n",
    "df.isnull().sum()"
   ]
  },
  {
   "cell_type": "code",
   "execution_count": 8,
   "id": "17415229",
   "metadata": {},
   "outputs": [],
   "source": [
    "#here thier is no null values in dataset \n",
    "#as we see thier are all numerical values in data set which matches with the datatypes \n",
    "#now visualizing null values "
   ]
  },
  {
   "cell_type": "code",
   "execution_count": 9,
   "id": "ae3a71d0",
   "metadata": {},
   "outputs": [
    {
     "data": {
      "text/plain": [
       "<AxesSubplot:>"
      ]
     },
     "execution_count": 9,
     "metadata": {},
     "output_type": "execute_result"
    },
    {
     "data": {
      "image/png": "[encoded data removed]",
      "text/plain": [
       "<Figure size 864x360 with 2 Axes>"
      ]
     },
     "metadata": {
      "needs_background": "light"
     },
     "output_type": "display_data"
    }
   ],
   "source": [
    "plt.figure(figsize=(12,5))\n",
    "sb.heatmap(df.isnull())"
   ]
  },
  {
   "cell_type": "code",
   "execution_count": 10,
   "id": "e83c3395",
   "metadata": {},
   "outputs": [
    {
     "name": "stdout",
     "output_type": "stream",
     "text": [
      "<class 'pandas.core.frame.DataFrame'>\n",
      "RangeIndex: 284807 entries, 0 to 284806\n",
      "Data columns (total 31 columns):\n",
      " #   Column  Non-Null Count   Dtype  \n",
      "---  ------  --------------   -----  \n",
      " 0   Time    284807 non-null  float64\n",
      " 1   V1      284807 non-null  float64\n",
      " 2   V2      284807 non-null  float64\n",
      " 3   V3      284807 non-null  float64\n",
      " 4   V4      284807 non-null  float64\n",
      " 5   V5      284807 non-null  float64\n",
      " 6   V6      284807 non-null  float64\n",
      " 7   V7      284807 non-null  float64\n",
      " 8   V8      284807 non-null  float64\n",
      " 9   V9      284807 non-null  float64\n",
      " 10  V10     284807 non-null  float64\n",
      " 11  V11     284807 non-null  float64\n",
      " 12  V12     284807 non-null  float64\n",
      " 13  V13     284807 non-null  float64\n",
      " 14  V14     284807 non-null  float64\n",
      " 15  V15     284807 non-null  float64\n",
      " 16  V16     284807 non-null  float64\n",
      " 17  V17     284807 non-null  float64\n",
      " 18  V18     284807 non-null  float64\n",
      " 19  V19     284807 non-null  float64\n",
      " 20  V20     284807 non-null  float64\n",
      " 21  V21     284807 non-null  float64\n",
      " 22  V22     284807 non-null  float64\n",
      " 23  V23     284807 non-null  float64\n",
      " 24  V24     284807 non-null  float64\n",
      " 25  V25     284807 non-null  float64\n",
      " 26  V26     284807 non-null  float64\n",
      " 27  V27     284807 non-null  float64\n",
      " 28  V28     284807 non-null  float64\n",
      " 29  Amount  284807 non-null  float64\n",
      " 30  Class   284807 non-null  int64  \n",
      "dtypes: float64(30), int64(1)\n",
      "memory usage: 67.4 MB\n"
     ]
    }
   ],
   "source": [
    "#detail information of dataset\n",
    "df.info()"
   ]
  },
  {
   "cell_type": "code",
   "execution_count": 11,
   "id": "06ed5251",
   "metadata": {},
   "outputs": [
    {
     "data": {
      "text/html": [
       "<style type=\"text/css\">\n",
       "#T_5a60c_row0_col0, #T_5a60c_row0_col1, #T_5a60c_row0_col2, #T_5a60c_row0_col3, #T_5a60c_row0_col4, #T_5a60c_row0_col5, #T_5a60c_row0_col6, #T_5a60c_row0_col7, #T_5a60c_row0_col8, #T_5a60c_row0_col9, #T_5a60c_row0_col10, #T_5a60c_row0_col11, #T_5a60c_row0_col12, #T_5a60c_row0_col13, #T_5a60c_row0_col14, #T_5a60c_row0_col15, #T_5a60c_row0_col16, #T_5a60c_row0_col17, #T_5a60c_row0_col18, #T_5a60c_row0_col19, #T_5a60c_row0_col20, #T_5a60c_row0_col21, #T_5a60c_row0_col22, #T_5a60c_row0_col23, #T_5a60c_row0_col24, #T_5a60c_row0_col25, #T_5a60c_row0_col26, #T_5a60c_row0_col27, #T_5a60c_row0_col28, #T_5a60c_row0_col29, #T_5a60c_row0_col30 {\n",
       "  background-color: #023858;\n",
       "  color: #f1f1f1;\n",
       "}\n",
       "#T_5a60c_row1_col0 {\n",
       "  background-color: #b4c4df;\n",
       "  color: #000000;\n",
       "}\n",
       "#T_5a60c_row1_col1, #T_5a60c_row1_col2, #T_5a60c_row1_col3, #T_5a60c_row1_col4, #T_5a60c_row1_col5, #T_5a60c_row1_col6, #T_5a60c_row1_col7, #T_5a60c_row1_col8, #T_5a60c_row1_col9, #T_5a60c_row1_col10, #T_5a60c_row1_col11, #T_5a60c_row1_col12, #T_5a60c_row1_col13, #T_5a60c_row1_col14, #T_5a60c_row1_col15, #T_5a60c_row1_col16, #T_5a60c_row1_col17, #T_5a60c_row1_col18, #T_5a60c_row1_col19, #T_5a60c_row1_col20, #T_5a60c_row1_col21, #T_5a60c_row1_col22, #T_5a60c_row1_col23, #T_5a60c_row1_col24, #T_5a60c_row1_col25, #T_5a60c_row1_col26, #T_5a60c_row1_col27, #T_5a60c_row1_col28, #T_5a60c_row1_col29, #T_5a60c_row1_col30, #T_5a60c_row2_col1, #T_5a60c_row2_col2, #T_5a60c_row2_col3, #T_5a60c_row2_col4, #T_5a60c_row2_col5, #T_5a60c_row2_col6, #T_5a60c_row2_col7, #T_5a60c_row2_col8, #T_5a60c_row2_col9, #T_5a60c_row2_col10, #T_5a60c_row2_col11, #T_5a60c_row2_col12, #T_5a60c_row2_col13, #T_5a60c_row2_col14, #T_5a60c_row2_col15, #T_5a60c_row2_col16, #T_5a60c_row2_col17, #T_5a60c_row2_col18, #T_5a60c_row2_col19, #T_5a60c_row2_col20, #T_5a60c_row2_col21, #T_5a60c_row2_col22, #T_5a60c_row2_col23, #T_5a60c_row2_col24, #T_5a60c_row2_col25, #T_5a60c_row2_col26, #T_5a60c_row2_col27, #T_5a60c_row2_col28, #T_5a60c_row2_col29, #T_5a60c_row2_col30, #T_5a60c_row3_col0, #T_5a60c_row3_col1, #T_5a60c_row3_col2, #T_5a60c_row3_col3, #T_5a60c_row3_col4, #T_5a60c_row3_col5, #T_5a60c_row3_col6, #T_5a60c_row3_col7, #T_5a60c_row3_col8, #T_5a60c_row3_col9, #T_5a60c_row3_col10, #T_5a60c_row3_col11, #T_5a60c_row3_col12, #T_5a60c_row3_col13, #T_5a60c_row3_col14, #T_5a60c_row3_col15, #T_5a60c_row3_col16, #T_5a60c_row3_col17, #T_5a60c_row3_col18, #T_5a60c_row3_col19, #T_5a60c_row3_col20, #T_5a60c_row3_col21, #T_5a60c_row3_col22, #T_5a60c_row3_col23, #T_5a60c_row3_col24, #T_5a60c_row3_col25, #T_5a60c_row3_col26, #T_5a60c_row3_col27, #T_5a60c_row3_col28, #T_5a60c_row3_col29, #T_5a60c_row3_col30, #T_5a60c_row4_col1, #T_5a60c_row4_col2, #T_5a60c_row4_col3, #T_5a60c_row4_col4, #T_5a60c_row4_col5, #T_5a60c_row4_col6, #T_5a60c_row4_col7, #T_5a60c_row4_col8, #T_5a60c_row4_col9, #T_5a60c_row4_col10, #T_5a60c_row4_col11, #T_5a60c_row4_col12, #T_5a60c_row4_col13, #T_5a60c_row4_col14, #T_5a60c_row4_col15, #T_5a60c_row4_col16, #T_5a60c_row4_col17, #T_5a60c_row4_col18, #T_5a60c_row4_col19, #T_5a60c_row4_col20, #T_5a60c_row4_col21, #T_5a60c_row4_col22, #T_5a60c_row4_col23, #T_5a60c_row4_col24, #T_5a60c_row4_col25, #T_5a60c_row4_col26, #T_5a60c_row4_col27, #T_5a60c_row4_col28, #T_5a60c_row4_col29, #T_5a60c_row4_col30, #T_5a60c_row5_col1, #T_5a60c_row5_col2, #T_5a60c_row5_col3, #T_5a60c_row5_col4, #T_5a60c_row5_col5, #T_5a60c_row5_col6, #T_5a60c_row5_col7, #T_5a60c_row5_col8, #T_5a60c_row5_col9, #T_5a60c_row5_col10, #T_5a60c_row5_col11, #T_5a60c_row5_col12, #T_5a60c_row5_col13, #T_5a60c_row5_col14, #T_5a60c_row5_col15, #T_5a60c_row5_col16, #T_5a60c_row5_col17, #T_5a60c_row5_col18, #T_5a60c_row5_col19, #T_5a60c_row5_col20, #T_5a60c_row5_col21, #T_5a60c_row5_col22, #T_5a60c_row5_col23, #T_5a60c_row5_col24, #T_5a60c_row5_col25, #T_5a60c_row5_col26, #T_5a60c_row5_col27, #T_5a60c_row5_col28, #T_5a60c_row5_col29, #T_5a60c_row5_col30, #T_5a60c_row6_col1, #T_5a60c_row6_col2, #T_5a60c_row6_col3, #T_5a60c_row6_col4, #T_5a60c_row6_col5, #T_5a60c_row6_col6, #T_5a60c_row6_col7, #T_5a60c_row6_col8, #T_5a60c_row6_col9, #T_5a60c_row6_col10, #T_5a60c_row6_col11, #T_5a60c_row6_col12, #T_5a60c_row6_col13, #T_5a60c_row6_col14, #T_5a60c_row6_col15, #T_5a60c_row6_col16, #T_5a60c_row6_col17, #T_5a60c_row6_col18, #T_5a60c_row6_col19, #T_5a60c_row6_col20, #T_5a60c_row6_col21, #T_5a60c_row6_col22, #T_5a60c_row6_col23, #T_5a60c_row6_col24, #T_5a60c_row6_col25, #T_5a60c_row6_col26, #T_5a60c_row6_col27, #T_5a60c_row6_col28, #T_5a60c_row6_col29, #T_5a60c_row6_col30, #T_5a60c_row7_col1, #T_5a60c_row7_col2, #T_5a60c_row7_col3, #T_5a60c_row7_col4, #T_5a60c_row7_col5, #T_5a60c_row7_col6, #T_5a60c_row7_col7, #T_5a60c_row7_col8, #T_5a60c_row7_col9, #T_5a60c_row7_col10, #T_5a60c_row7_col11, #T_5a60c_row7_col12, #T_5a60c_row7_col13, #T_5a60c_row7_col14, #T_5a60c_row7_col15, #T_5a60c_row7_col16, #T_5a60c_row7_col17, #T_5a60c_row7_col18, #T_5a60c_row7_col19, #T_5a60c_row7_col20, #T_5a60c_row7_col21, #T_5a60c_row7_col22, #T_5a60c_row7_col23, #T_5a60c_row7_col24, #T_5a60c_row7_col25, #T_5a60c_row7_col26, #T_5a60c_row7_col27, #T_5a60c_row7_col28, #T_5a60c_row7_col30 {\n",
       "  background-color: #fff7fb;\n",
       "  color: #000000;\n",
       "}\n",
       "#T_5a60c_row2_col0 {\n",
       "  background-color: #e3e0ee;\n",
       "  color: #000000;\n",
       "}\n",
       "#T_5a60c_row4_col0 {\n",
       "  background-color: #dedcec;\n",
       "  color: #000000;\n",
       "}\n",
       "#T_5a60c_row5_col0 {\n",
       "  background-color: #c0c9e2;\n",
       "  color: #000000;\n",
       "}\n",
       "#T_5a60c_row6_col0 {\n",
       "  background-color: #78abd0;\n",
       "  color: #f1f1f1;\n",
       "}\n",
       "#T_5a60c_row7_col0 {\n",
       "  background-color: #3f93c2;\n",
       "  color: #f1f1f1;\n",
       "}\n",
       "#T_5a60c_row7_col29 {\n",
       "  background-color: #f1ebf5;\n",
       "  color: #000000;\n",
       "}\n",
       "</style>\n",
       "<table id=\"T_5a60c\">\n",
       "  <thead>\n",
       "    <tr>\n",
       "      <th class=\"blank level0\" >&nbsp;</th>\n",
       "      <th id=\"T_5a60c_level0_col0\" class=\"col_heading level0 col0\" >Time</th>\n",
       "      <th id=\"T_5a60c_level0_col1\" class=\"col_heading level0 col1\" >V1</th>\n",
       "      <th id=\"T_5a60c_level0_col2\" class=\"col_heading level0 col2\" >V2</th>\n",
       "      <th id=\"T_5a60c_level0_col3\" class=\"col_heading level0 col3\" >V3</th>\n",
       "      <th id=\"T_5a60c_level0_col4\" class=\"col_heading level0 col4\" >V4</th>\n",
       "      <th id=\"T_5a60c_level0_col5\" class=\"col_heading level0 col5\" >V5</th>\n",
       "      <th id=\"T_5a60c_level0_col6\" class=\"col_heading level0 col6\" >V6</th>\n",
       "      <th id=\"T_5a60c_level0_col7\" class=\"col_heading level0 col7\" >V7</th>\n",
       "      <th id=\"T_5a60c_level0_col8\" class=\"col_heading level0 col8\" >V8</th>\n",
       "      <th id=\"T_5a60c_level0_col9\" class=\"col_heading level0 col9\" >V9</th>\n",
       "      <th id=\"T_5a60c_level0_col10\" class=\"col_heading level0 col10\" >V10</th>\n",
       "      <th id=\"T_5a60c_level0_col11\" class=\"col_heading level0 col11\" >V11</th>\n",
       "      <th id=\"T_5a60c_level0_col12\" class=\"col_heading level0 col12\" >V12</th>\n",
       "      <th id=\"T_5a60c_level0_col13\" class=\"col_heading level0 col13\" >V13</th>\n",
       "      <th id=\"T_5a60c_level0_col14\" class=\"col_heading level0 col14\" >V14</th>\n",
       "      <th id=\"T_5a60c_level0_col15\" class=\"col_heading level0 col15\" >V15</th>\n",
       "      <th id=\"T_5a60c_level0_col16\" class=\"col_heading level0 col16\" >V16</th>\n",
       "      <th id=\"T_5a60c_level0_col17\" class=\"col_heading level0 col17\" >V17</th>\n",
       "      <th id=\"T_5a60c_level0_col18\" class=\"col_heading level0 col18\" >V18</th>\n",
       "      <th id=\"T_5a60c_level0_col19\" class=\"col_heading level0 col19\" >V19</th>\n",
       "      <th id=\"T_5a60c_level0_col20\" class=\"col_heading level0 col20\" >V20</th>\n",
       "      <th id=\"T_5a60c_level0_col21\" class=\"col_heading level0 col21\" >V21</th>\n",
       "      <th id=\"T_5a60c_level0_col22\" class=\"col_heading level0 col22\" >V22</th>\n",
       "      <th id=\"T_5a60c_level0_col23\" class=\"col_heading level0 col23\" >V23</th>\n",
       "      <th id=\"T_5a60c_level0_col24\" class=\"col_heading level0 col24\" >V24</th>\n",
       "      <th id=\"T_5a60c_level0_col25\" class=\"col_heading level0 col25\" >V25</th>\n",
       "      <th id=\"T_5a60c_level0_col26\" class=\"col_heading level0 col26\" >V26</th>\n",
       "      <th id=\"T_5a60c_level0_col27\" class=\"col_heading level0 col27\" >V27</th>\n",
       "      <th id=\"T_5a60c_level0_col28\" class=\"col_heading level0 col28\" >V28</th>\n",
       "      <th id=\"T_5a60c_level0_col29\" class=\"col_heading level0 col29\" >Amount</th>\n",
       "      <th id=\"T_5a60c_level0_col30\" class=\"col_heading level0 col30\" >Class</th>\n",
       "    </tr>\n",
       "  </thead>\n",
       "  <tbody>\n",
       "    <tr>\n",
       "      <th id=\"T_5a60c_level0_row0\" class=\"row_heading level0 row0\" >count</th>\n",
       "      <td id=\"T_5a60c_row0_col0\" class=\"data row0 col0\" >284807.000000</td>\n",
       "      <td id=\"T_5a60c_row0_col1\" class=\"data row0 col1\" >284807.000000</td>\n",
       "      <td id=\"T_5a60c_row0_col2\" class=\"data row0 col2\" >284807.000000</td>\n",
       "      <td id=\"T_5a60c_row0_col3\" class=\"data row0 col3\" >284807.000000</td>\n",
       "      <td id=\"T_5a60c_row0_col4\" class=\"data row0 col4\" >284807.000000</td>\n",
       "      <td id=\"T_5a60c_row0_col5\" class=\"data row0 col5\" >284807.000000</td>\n",
       "      <td id=\"T_5a60c_row0_col6\" class=\"data row0 col6\" >284807.000000</td>\n",
       "      <td id=\"T_5a60c_row0_col7\" class=\"data row0 col7\" >284807.000000</td>\n",
       "      <td id=\"T_5a60c_row0_col8\" class=\"data row0 col8\" >284807.000000</td>\n",
       "      <td id=\"T_5a60c_row0_col9\" class=\"data row0 col9\" >284807.000000</td>\n",
       "      <td id=\"T_5a60c_row0_col10\" class=\"data row0 col10\" >284807.000000</td>\n",
       "      <td id=\"T_5a60c_row0_col11\" class=\"data row0 col11\" >284807.000000</td>\n",
       "      <td id=\"T_5a60c_row0_col12\" class=\"data row0 col12\" >284807.000000</td>\n",
       "      <td id=\"T_5a60c_row0_col13\" class=\"data row0 col13\" >284807.000000</td>\n",
       "      <td id=\"T_5a60c_row0_col14\" class=\"data row0 col14\" >284807.000000</td>\n",
       "      <td id=\"T_5a60c_row0_col15\" class=\"data row0 col15\" >284807.000000</td>\n",
       "      <td id=\"T_5a60c_row0_col16\" class=\"data row0 col16\" >284807.000000</td>\n",
       "      <td id=\"T_5a60c_row0_col17\" class=\"data row0 col17\" >284807.000000</td>\n",
       "      <td id=\"T_5a60c_row0_col18\" class=\"data row0 col18\" >284807.000000</td>\n",
       "      <td id=\"T_5a60c_row0_col19\" class=\"data row0 col19\" >284807.000000</td>\n",
       "      <td id=\"T_5a60c_row0_col20\" class=\"data row0 col20\" >284807.000000</td>\n",
       "      <td id=\"T_5a60c_row0_col21\" class=\"data row0 col21\" >284807.000000</td>\n",
       "      <td id=\"T_5a60c_row0_col22\" class=\"data row0 col22\" >284807.000000</td>\n",
       "      <td id=\"T_5a60c_row0_col23\" class=\"data row0 col23\" >284807.000000</td>\n",
       "      <td id=\"T_5a60c_row0_col24\" class=\"data row0 col24\" >284807.000000</td>\n",
       "      <td id=\"T_5a60c_row0_col25\" class=\"data row0 col25\" >284807.000000</td>\n",
       "      <td id=\"T_5a60c_row0_col26\" class=\"data row0 col26\" >284807.000000</td>\n",
       "      <td id=\"T_5a60c_row0_col27\" class=\"data row0 col27\" >284807.000000</td>\n",
       "      <td id=\"T_5a60c_row0_col28\" class=\"data row0 col28\" >284807.000000</td>\n",
       "      <td id=\"T_5a60c_row0_col29\" class=\"data row0 col29\" >284807.000000</td>\n",
       "      <td id=\"T_5a60c_row0_col30\" class=\"data row0 col30\" >284807.000000</td>\n",
       "    </tr>\n",
       "    <tr>\n",
       "      <th id=\"T_5a60c_level0_row1\" class=\"row_heading level0 row1\" >mean</th>\n",
       "      <td id=\"T_5a60c_row1_col0\" class=\"data row1 col0\" >94813.860000</td>\n",
       "      <td id=\"T_5a60c_row1_col1\" class=\"data row1 col1\" >0.000000</td>\n",
       "      <td id=\"T_5a60c_row1_col2\" class=\"data row1 col2\" >-0.000000</td>\n",
       "      <td id=\"T_5a60c_row1_col3\" class=\"data row1 col3\" >-0.000000</td>\n",
       "      <td id=\"T_5a60c_row1_col4\" class=\"data row1 col4\" >0.000000</td>\n",
       "      <td id=\"T_5a60c_row1_col5\" class=\"data row1 col5\" >0.000000</td>\n",
       "      <td id=\"T_5a60c_row1_col6\" class=\"data row1 col6\" >0.000000</td>\n",
       "      <td id=\"T_5a60c_row1_col7\" class=\"data row1 col7\" >-0.000000</td>\n",
       "      <td id=\"T_5a60c_row1_col8\" class=\"data row1 col8\" >0.000000</td>\n",
       "      <td id=\"T_5a60c_row1_col9\" class=\"data row1 col9\" >-0.000000</td>\n",
       "      <td id=\"T_5a60c_row1_col10\" class=\"data row1 col10\" >0.000000</td>\n",
       "      <td id=\"T_5a60c_row1_col11\" class=\"data row1 col11\" >0.000000</td>\n",
       "      <td id=\"T_5a60c_row1_col12\" class=\"data row1 col12\" >0.000000</td>\n",
       "      <td id=\"T_5a60c_row1_col13\" class=\"data row1 col13\" >0.000000</td>\n",
       "      <td id=\"T_5a60c_row1_col14\" class=\"data row1 col14\" >-0.000000</td>\n",
       "      <td id=\"T_5a60c_row1_col15\" class=\"data row1 col15\" >-0.000000</td>\n",
       "      <td id=\"T_5a60c_row1_col16\" class=\"data row1 col16\" >-0.000000</td>\n",
       "      <td id=\"T_5a60c_row1_col17\" class=\"data row1 col17\" >-0.000000</td>\n",
       "      <td id=\"T_5a60c_row1_col18\" class=\"data row1 col18\" >0.000000</td>\n",
       "      <td id=\"T_5a60c_row1_col19\" class=\"data row1 col19\" >0.000000</td>\n",
       "      <td id=\"T_5a60c_row1_col20\" class=\"data row1 col20\" >0.000000</td>\n",
       "      <td id=\"T_5a60c_row1_col21\" class=\"data row1 col21\" >-0.000000</td>\n",
       "      <td id=\"T_5a60c_row1_col22\" class=\"data row1 col22\" >-0.000000</td>\n",
       "      <td id=\"T_5a60c_row1_col23\" class=\"data row1 col23\" >-0.000000</td>\n",
       "      <td id=\"T_5a60c_row1_col24\" class=\"data row1 col24\" >0.000000</td>\n",
       "      <td id=\"T_5a60c_row1_col25\" class=\"data row1 col25\" >-0.000000</td>\n",
       "      <td id=\"T_5a60c_row1_col26\" class=\"data row1 col26\" >-0.000000</td>\n",
       "      <td id=\"T_5a60c_row1_col27\" class=\"data row1 col27\" >0.000000</td>\n",
       "      <td id=\"T_5a60c_row1_col28\" class=\"data row1 col28\" >-0.000000</td>\n",
       "      <td id=\"T_5a60c_row1_col29\" class=\"data row1 col29\" >88.350000</td>\n",
       "      <td id=\"T_5a60c_row1_col30\" class=\"data row1 col30\" >0.000000</td>\n",
       "    </tr>\n",
       "    <tr>\n",
       "      <th id=\"T_5a60c_level0_row2\" class=\"row_heading level0 row2\" >std</th>\n",
       "      <td id=\"T_5a60c_row2_col0\" class=\"data row2 col0\" >47488.150000</td>\n",
       "      <td id=\"T_5a60c_row2_col1\" class=\"data row2 col1\" >1.960000</td>\n",
       "      <td id=\"T_5a60c_row2_col2\" class=\"data row2 col2\" >1.650000</td>\n",
       "      <td id=\"T_5a60c_row2_col3\" class=\"data row2 col3\" >1.520000</td>\n",
       "      <td id=\"T_5a60c_row2_col4\" class=\"data row2 col4\" >1.420000</td>\n",
       "      <td id=\"T_5a60c_row2_col5\" class=\"data row2 col5\" >1.380000</td>\n",
       "      <td id=\"T_5a60c_row2_col6\" class=\"data row2 col6\" >1.330000</td>\n",
       "      <td id=\"T_5a60c_row2_col7\" class=\"data row2 col7\" >1.240000</td>\n",
       "      <td id=\"T_5a60c_row2_col8\" class=\"data row2 col8\" >1.190000</td>\n",
       "      <td id=\"T_5a60c_row2_col9\" class=\"data row2 col9\" >1.100000</td>\n",
       "      <td id=\"T_5a60c_row2_col10\" class=\"data row2 col10\" >1.090000</td>\n",
       "      <td id=\"T_5a60c_row2_col11\" class=\"data row2 col11\" >1.020000</td>\n",
       "      <td id=\"T_5a60c_row2_col12\" class=\"data row2 col12\" >1.000000</td>\n",
       "      <td id=\"T_5a60c_row2_col13\" class=\"data row2 col13\" >1.000000</td>\n",
       "      <td id=\"T_5a60c_row2_col14\" class=\"data row2 col14\" >0.960000</td>\n",
       "      <td id=\"T_5a60c_row2_col15\" class=\"data row2 col15\" >0.920000</td>\n",
       "      <td id=\"T_5a60c_row2_col16\" class=\"data row2 col16\" >0.880000</td>\n",
       "      <td id=\"T_5a60c_row2_col17\" class=\"data row2 col17\" >0.850000</td>\n",
       "      <td id=\"T_5a60c_row2_col18\" class=\"data row2 col18\" >0.840000</td>\n",
       "      <td id=\"T_5a60c_row2_col19\" class=\"data row2 col19\" >0.810000</td>\n",
       "      <td id=\"T_5a60c_row2_col20\" class=\"data row2 col20\" >0.770000</td>\n",
       "      <td id=\"T_5a60c_row2_col21\" class=\"data row2 col21\" >0.730000</td>\n",
       "      <td id=\"T_5a60c_row2_col22\" class=\"data row2 col22\" >0.730000</td>\n",
       "      <td id=\"T_5a60c_row2_col23\" class=\"data row2 col23\" >0.620000</td>\n",
       "      <td id=\"T_5a60c_row2_col24\" class=\"data row2 col24\" >0.610000</td>\n",
       "      <td id=\"T_5a60c_row2_col25\" class=\"data row2 col25\" >0.520000</td>\n",
       "      <td id=\"T_5a60c_row2_col26\" class=\"data row2 col26\" >0.480000</td>\n",
       "      <td id=\"T_5a60c_row2_col27\" class=\"data row2 col27\" >0.400000</td>\n",
       "      <td id=\"T_5a60c_row2_col28\" class=\"data row2 col28\" >0.330000</td>\n",
       "      <td id=\"T_5a60c_row2_col29\" class=\"data row2 col29\" >250.120000</td>\n",
       "      <td id=\"T_5a60c_row2_col30\" class=\"data row2 col30\" >0.040000</td>\n",
       "    </tr>\n",
       "    <tr>\n",
       "      <th id=\"T_5a60c_level0_row3\" class=\"row_heading level0 row3\" >min</th>\n",
       "      <td id=\"T_5a60c_row3_col0\" class=\"data row3 col0\" >0.000000</td>\n",
       "      <td id=\"T_5a60c_row3_col1\" class=\"data row3 col1\" >-56.410000</td>\n",
       "      <td id=\"T_5a60c_row3_col2\" class=\"data row3 col2\" >-72.720000</td>\n",
       "      <td id=\"T_5a60c_row3_col3\" class=\"data row3 col3\" >-48.330000</td>\n",
       "      <td id=\"T_5a60c_row3_col4\" class=\"data row3 col4\" >-5.680000</td>\n",
       "      <td id=\"T_5a60c_row3_col5\" class=\"data row3 col5\" >-113.740000</td>\n",
       "      <td id=\"T_5a60c_row3_col6\" class=\"data row3 col6\" >-26.160000</td>\n",
       "      <td id=\"T_5a60c_row3_col7\" class=\"data row3 col7\" >-43.560000</td>\n",
       "      <td id=\"T_5a60c_row3_col8\" class=\"data row3 col8\" >-73.220000</td>\n",
       "      <td id=\"T_5a60c_row3_col9\" class=\"data row3 col9\" >-13.430000</td>\n",
       "      <td id=\"T_5a60c_row3_col10\" class=\"data row3 col10\" >-24.590000</td>\n",
       "      <td id=\"T_5a60c_row3_col11\" class=\"data row3 col11\" >-4.800000</td>\n",
       "      <td id=\"T_5a60c_row3_col12\" class=\"data row3 col12\" >-18.680000</td>\n",
       "      <td id=\"T_5a60c_row3_col13\" class=\"data row3 col13\" >-5.790000</td>\n",
       "      <td id=\"T_5a60c_row3_col14\" class=\"data row3 col14\" >-19.210000</td>\n",
       "      <td id=\"T_5a60c_row3_col15\" class=\"data row3 col15\" >-4.500000</td>\n",
       "      <td id=\"T_5a60c_row3_col16\" class=\"data row3 col16\" >-14.130000</td>\n",
       "      <td id=\"T_5a60c_row3_col17\" class=\"data row3 col17\" >-25.160000</td>\n",
       "      <td id=\"T_5a60c_row3_col18\" class=\"data row3 col18\" >-9.500000</td>\n",
       "      <td id=\"T_5a60c_row3_col19\" class=\"data row3 col19\" >-7.210000</td>\n",
       "      <td id=\"T_5a60c_row3_col20\" class=\"data row3 col20\" >-54.500000</td>\n",
       "      <td id=\"T_5a60c_row3_col21\" class=\"data row3 col21\" >-34.830000</td>\n",
       "      <td id=\"T_5a60c_row3_col22\" class=\"data row3 col22\" >-10.930000</td>\n",
       "      <td id=\"T_5a60c_row3_col23\" class=\"data row3 col23\" >-44.810000</td>\n",
       "      <td id=\"T_5a60c_row3_col24\" class=\"data row3 col24\" >-2.840000</td>\n",
       "      <td id=\"T_5a60c_row3_col25\" class=\"data row3 col25\" >-10.300000</td>\n",
       "      <td id=\"T_5a60c_row3_col26\" class=\"data row3 col26\" >-2.600000</td>\n",
       "      <td id=\"T_5a60c_row3_col27\" class=\"data row3 col27\" >-22.570000</td>\n",
       "      <td id=\"T_5a60c_row3_col28\" class=\"data row3 col28\" >-15.430000</td>\n",
       "      <td id=\"T_5a60c_row3_col29\" class=\"data row3 col29\" >0.000000</td>\n",
       "      <td id=\"T_5a60c_row3_col30\" class=\"data row3 col30\" >0.000000</td>\n",
       "    </tr>\n",
       "    <tr>\n",
       "      <th id=\"T_5a60c_level0_row4\" class=\"row_heading level0 row4\" >25%</th>\n",
       "      <td id=\"T_5a60c_row4_col0\" class=\"data row4 col0\" >54201.500000</td>\n",
       "      <td id=\"T_5a60c_row4_col1\" class=\"data row4 col1\" >-0.920000</td>\n",
       "      <td id=\"T_5a60c_row4_col2\" class=\"data row4 col2\" >-0.600000</td>\n",
       "      <td id=\"T_5a60c_row4_col3\" class=\"data row4 col3\" >-0.890000</td>\n",
       "      <td id=\"T_5a60c_row4_col4\" class=\"data row4 col4\" >-0.850000</td>\n",
       "      <td id=\"T_5a60c_row4_col5\" class=\"data row4 col5\" >-0.690000</td>\n",
       "      <td id=\"T_5a60c_row4_col6\" class=\"data row4 col6\" >-0.770000</td>\n",
       "      <td id=\"T_5a60c_row4_col7\" class=\"data row4 col7\" >-0.550000</td>\n",
       "      <td id=\"T_5a60c_row4_col8\" class=\"data row4 col8\" >-0.210000</td>\n",
       "      <td id=\"T_5a60c_row4_col9\" class=\"data row4 col9\" >-0.640000</td>\n",
       "      <td id=\"T_5a60c_row4_col10\" class=\"data row4 col10\" >-0.540000</td>\n",
       "      <td id=\"T_5a60c_row4_col11\" class=\"data row4 col11\" >-0.760000</td>\n",
       "      <td id=\"T_5a60c_row4_col12\" class=\"data row4 col12\" >-0.410000</td>\n",
       "      <td id=\"T_5a60c_row4_col13\" class=\"data row4 col13\" >-0.650000</td>\n",
       "      <td id=\"T_5a60c_row4_col14\" class=\"data row4 col14\" >-0.430000</td>\n",
       "      <td id=\"T_5a60c_row4_col15\" class=\"data row4 col15\" >-0.580000</td>\n",
       "      <td id=\"T_5a60c_row4_col16\" class=\"data row4 col16\" >-0.470000</td>\n",
       "      <td id=\"T_5a60c_row4_col17\" class=\"data row4 col17\" >-0.480000</td>\n",
       "      <td id=\"T_5a60c_row4_col18\" class=\"data row4 col18\" >-0.500000</td>\n",
       "      <td id=\"T_5a60c_row4_col19\" class=\"data row4 col19\" >-0.460000</td>\n",
       "      <td id=\"T_5a60c_row4_col20\" class=\"data row4 col20\" >-0.210000</td>\n",
       "      <td id=\"T_5a60c_row4_col21\" class=\"data row4 col21\" >-0.230000</td>\n",
       "      <td id=\"T_5a60c_row4_col22\" class=\"data row4 col22\" >-0.540000</td>\n",
       "      <td id=\"T_5a60c_row4_col23\" class=\"data row4 col23\" >-0.160000</td>\n",
       "      <td id=\"T_5a60c_row4_col24\" class=\"data row4 col24\" >-0.350000</td>\n",
       "      <td id=\"T_5a60c_row4_col25\" class=\"data row4 col25\" >-0.320000</td>\n",
       "      <td id=\"T_5a60c_row4_col26\" class=\"data row4 col26\" >-0.330000</td>\n",
       "      <td id=\"T_5a60c_row4_col27\" class=\"data row4 col27\" >-0.070000</td>\n",
       "      <td id=\"T_5a60c_row4_col28\" class=\"data row4 col28\" >-0.050000</td>\n",
       "      <td id=\"T_5a60c_row4_col29\" class=\"data row4 col29\" >5.600000</td>\n",
       "      <td id=\"T_5a60c_row4_col30\" class=\"data row4 col30\" >0.000000</td>\n",
       "    </tr>\n",
       "    <tr>\n",
       "      <th id=\"T_5a60c_level0_row5\" class=\"row_heading level0 row5\" >50%</th>\n",
       "      <td id=\"T_5a60c_row5_col0\" class=\"data row5 col0\" >84692.000000</td>\n",
       "      <td id=\"T_5a60c_row5_col1\" class=\"data row5 col1\" >0.020000</td>\n",
       "      <td id=\"T_5a60c_row5_col2\" class=\"data row5 col2\" >0.070000</td>\n",
       "      <td id=\"T_5a60c_row5_col3\" class=\"data row5 col3\" >0.180000</td>\n",
       "      <td id=\"T_5a60c_row5_col4\" class=\"data row5 col4\" >-0.020000</td>\n",
       "      <td id=\"T_5a60c_row5_col5\" class=\"data row5 col5\" >-0.050000</td>\n",
       "      <td id=\"T_5a60c_row5_col6\" class=\"data row5 col6\" >-0.270000</td>\n",
       "      <td id=\"T_5a60c_row5_col7\" class=\"data row5 col7\" >0.040000</td>\n",
       "      <td id=\"T_5a60c_row5_col8\" class=\"data row5 col8\" >0.020000</td>\n",
       "      <td id=\"T_5a60c_row5_col9\" class=\"data row5 col9\" >-0.050000</td>\n",
       "      <td id=\"T_5a60c_row5_col10\" class=\"data row5 col10\" >-0.090000</td>\n",
       "      <td id=\"T_5a60c_row5_col11\" class=\"data row5 col11\" >-0.030000</td>\n",
       "      <td id=\"T_5a60c_row5_col12\" class=\"data row5 col12\" >0.140000</td>\n",
       "      <td id=\"T_5a60c_row5_col13\" class=\"data row5 col13\" >-0.010000</td>\n",
       "      <td id=\"T_5a60c_row5_col14\" class=\"data row5 col14\" >0.050000</td>\n",
       "      <td id=\"T_5a60c_row5_col15\" class=\"data row5 col15\" >0.050000</td>\n",
       "      <td id=\"T_5a60c_row5_col16\" class=\"data row5 col16\" >0.070000</td>\n",
       "      <td id=\"T_5a60c_row5_col17\" class=\"data row5 col17\" >-0.070000</td>\n",
       "      <td id=\"T_5a60c_row5_col18\" class=\"data row5 col18\" >-0.000000</td>\n",
       "      <td id=\"T_5a60c_row5_col19\" class=\"data row5 col19\" >0.000000</td>\n",
       "      <td id=\"T_5a60c_row5_col20\" class=\"data row5 col20\" >-0.060000</td>\n",
       "      <td id=\"T_5a60c_row5_col21\" class=\"data row5 col21\" >-0.030000</td>\n",
       "      <td id=\"T_5a60c_row5_col22\" class=\"data row5 col22\" >0.010000</td>\n",
       "      <td id=\"T_5a60c_row5_col23\" class=\"data row5 col23\" >-0.010000</td>\n",
       "      <td id=\"T_5a60c_row5_col24\" class=\"data row5 col24\" >0.040000</td>\n",
       "      <td id=\"T_5a60c_row5_col25\" class=\"data row5 col25\" >0.020000</td>\n",
       "      <td id=\"T_5a60c_row5_col26\" class=\"data row5 col26\" >-0.050000</td>\n",
       "      <td id=\"T_5a60c_row5_col27\" class=\"data row5 col27\" >0.000000</td>\n",
       "      <td id=\"T_5a60c_row5_col28\" class=\"data row5 col28\" >0.010000</td>\n",
       "      <td id=\"T_5a60c_row5_col29\" class=\"data row5 col29\" >22.000000</td>\n",
       "      <td id=\"T_5a60c_row5_col30\" class=\"data row5 col30\" >0.000000</td>\n",
       "    </tr>\n",
       "    <tr>\n",
       "      <th id=\"T_5a60c_level0_row6\" class=\"row_heading level0 row6\" >75%</th>\n",
       "      <td id=\"T_5a60c_row6_col0\" class=\"data row6 col0\" >139320.500000</td>\n",
       "      <td id=\"T_5a60c_row6_col1\" class=\"data row6 col1\" >1.320000</td>\n",
       "      <td id=\"T_5a60c_row6_col2\" class=\"data row6 col2\" >0.800000</td>\n",
       "      <td id=\"T_5a60c_row6_col3\" class=\"data row6 col3\" >1.030000</td>\n",
       "      <td id=\"T_5a60c_row6_col4\" class=\"data row6 col4\" >0.740000</td>\n",
       "      <td id=\"T_5a60c_row6_col5\" class=\"data row6 col5\" >0.610000</td>\n",
       "      <td id=\"T_5a60c_row6_col6\" class=\"data row6 col6\" >0.400000</td>\n",
       "      <td id=\"T_5a60c_row6_col7\" class=\"data row6 col7\" >0.570000</td>\n",
       "      <td id=\"T_5a60c_row6_col8\" class=\"data row6 col8\" >0.330000</td>\n",
       "      <td id=\"T_5a60c_row6_col9\" class=\"data row6 col9\" >0.600000</td>\n",
       "      <td id=\"T_5a60c_row6_col10\" class=\"data row6 col10\" >0.450000</td>\n",
       "      <td id=\"T_5a60c_row6_col11\" class=\"data row6 col11\" >0.740000</td>\n",
       "      <td id=\"T_5a60c_row6_col12\" class=\"data row6 col12\" >0.620000</td>\n",
       "      <td id=\"T_5a60c_row6_col13\" class=\"data row6 col13\" >0.660000</td>\n",
       "      <td id=\"T_5a60c_row6_col14\" class=\"data row6 col14\" >0.490000</td>\n",
       "      <td id=\"T_5a60c_row6_col15\" class=\"data row6 col15\" >0.650000</td>\n",
       "      <td id=\"T_5a60c_row6_col16\" class=\"data row6 col16\" >0.520000</td>\n",
       "      <td id=\"T_5a60c_row6_col17\" class=\"data row6 col17\" >0.400000</td>\n",
       "      <td id=\"T_5a60c_row6_col18\" class=\"data row6 col18\" >0.500000</td>\n",
       "      <td id=\"T_5a60c_row6_col19\" class=\"data row6 col19\" >0.460000</td>\n",
       "      <td id=\"T_5a60c_row6_col20\" class=\"data row6 col20\" >0.130000</td>\n",
       "      <td id=\"T_5a60c_row6_col21\" class=\"data row6 col21\" >0.190000</td>\n",
       "      <td id=\"T_5a60c_row6_col22\" class=\"data row6 col22\" >0.530000</td>\n",
       "      <td id=\"T_5a60c_row6_col23\" class=\"data row6 col23\" >0.150000</td>\n",
       "      <td id=\"T_5a60c_row6_col24\" class=\"data row6 col24\" >0.440000</td>\n",
       "      <td id=\"T_5a60c_row6_col25\" class=\"data row6 col25\" >0.350000</td>\n",
       "      <td id=\"T_5a60c_row6_col26\" class=\"data row6 col26\" >0.240000</td>\n",
       "      <td id=\"T_5a60c_row6_col27\" class=\"data row6 col27\" >0.090000</td>\n",
       "      <td id=\"T_5a60c_row6_col28\" class=\"data row6 col28\" >0.080000</td>\n",
       "      <td id=\"T_5a60c_row6_col29\" class=\"data row6 col29\" >77.160000</td>\n",
       "      <td id=\"T_5a60c_row6_col30\" class=\"data row6 col30\" >0.000000</td>\n",
       "    </tr>\n",
       "    <tr>\n",
       "      <th id=\"T_5a60c_level0_row7\" class=\"row_heading level0 row7\" >max</th>\n",
       "      <td id=\"T_5a60c_row7_col0\" class=\"data row7 col0\" >172792.000000</td>\n",
       "      <td id=\"T_5a60c_row7_col1\" class=\"data row7 col1\" >2.450000</td>\n",
       "      <td id=\"T_5a60c_row7_col2\" class=\"data row7 col2\" >22.060000</td>\n",
       "      <td id=\"T_5a60c_row7_col3\" class=\"data row7 col3\" >9.380000</td>\n",
       "      <td id=\"T_5a60c_row7_col4\" class=\"data row7 col4\" >16.880000</td>\n",
       "      <td id=\"T_5a60c_row7_col5\" class=\"data row7 col5\" >34.800000</td>\n",
       "      <td id=\"T_5a60c_row7_col6\" class=\"data row7 col6\" >73.300000</td>\n",
       "      <td id=\"T_5a60c_row7_col7\" class=\"data row7 col7\" >120.590000</td>\n",
       "      <td id=\"T_5a60c_row7_col8\" class=\"data row7 col8\" >20.010000</td>\n",
       "      <td id=\"T_5a60c_row7_col9\" class=\"data row7 col9\" >15.590000</td>\n",
       "      <td id=\"T_5a60c_row7_col10\" class=\"data row7 col10\" >23.750000</td>\n",
       "      <td id=\"T_5a60c_row7_col11\" class=\"data row7 col11\" >12.020000</td>\n",
       "      <td id=\"T_5a60c_row7_col12\" class=\"data row7 col12\" >7.850000</td>\n",
       "      <td id=\"T_5a60c_row7_col13\" class=\"data row7 col13\" >7.130000</td>\n",
       "      <td id=\"T_5a60c_row7_col14\" class=\"data row7 col14\" >10.530000</td>\n",
       "      <td id=\"T_5a60c_row7_col15\" class=\"data row7 col15\" >8.880000</td>\n",
       "      <td id=\"T_5a60c_row7_col16\" class=\"data row7 col16\" >17.320000</td>\n",
       "      <td id=\"T_5a60c_row7_col17\" class=\"data row7 col17\" >9.250000</td>\n",
       "      <td id=\"T_5a60c_row7_col18\" class=\"data row7 col18\" >5.040000</td>\n",
       "      <td id=\"T_5a60c_row7_col19\" class=\"data row7 col19\" >5.590000</td>\n",
       "      <td id=\"T_5a60c_row7_col20\" class=\"data row7 col20\" >39.420000</td>\n",
       "      <td id=\"T_5a60c_row7_col21\" class=\"data row7 col21\" >27.200000</td>\n",
       "      <td id=\"T_5a60c_row7_col22\" class=\"data row7 col22\" >10.500000</td>\n",
       "      <td id=\"T_5a60c_row7_col23\" class=\"data row7 col23\" >22.530000</td>\n",
       "      <td id=\"T_5a60c_row7_col24\" class=\"data row7 col24\" >4.580000</td>\n",
       "      <td id=\"T_5a60c_row7_col25\" class=\"data row7 col25\" >7.520000</td>\n",
       "      <td id=\"T_5a60c_row7_col26\" class=\"data row7 col26\" >3.520000</td>\n",
       "      <td id=\"T_5a60c_row7_col27\" class=\"data row7 col27\" >31.610000</td>\n",
       "      <td id=\"T_5a60c_row7_col28\" class=\"data row7 col28\" >33.850000</td>\n",
       "      <td id=\"T_5a60c_row7_col29\" class=\"data row7 col29\" >25691.160000</td>\n",
       "      <td id=\"T_5a60c_row7_col30\" class=\"data row7 col30\" >1.000000</td>\n",
       "    </tr>\n",
       "  </tbody>\n",
       "</table>\n"
      ],
      "text/plain": [
       "<pandas.io.formats.style.Styler at 0x1f847be3070>"
      ]
     },
     "execution_count": 11,
     "metadata": {},
     "output_type": "execute_result"
    }
   ],
   "source": [
    "df.describe().round(2).style.background_gradient()"
   ]
  },
  {
   "cell_type": "code",
   "execution_count": 12,
   "id": "6e160594",
   "metadata": {},
   "outputs": [
    {
     "data": {
      "text/plain": [
       "1081"
      ]
     },
     "execution_count": 12,
     "metadata": {},
     "output_type": "execute_result"
    }
   ],
   "source": [
    "#checking for duplicated values\n",
    "df.duplicated().sum()"
   ]
  },
  {
   "cell_type": "code",
   "execution_count": 13,
   "id": "6d741016",
   "metadata": {},
   "outputs": [],
   "source": [
    "#seems thier are 1081 duplicate values in dataset, therefore will remove values to avoid misleading information \n",
    "df=df.drop_duplicates()"
   ]
  },
  {
   "cell_type": "code",
   "execution_count": 14,
   "id": "ca1aefa4",
   "metadata": {},
   "outputs": [
    {
     "data": {
      "text/plain": [
       "0"
      ]
     },
     "execution_count": 14,
     "metadata": {},
     "output_type": "execute_result"
    }
   ],
   "source": [
    "#again checking for duplicate\n",
    "df.duplicated().sum()"
   ]
  },
  {
   "cell_type": "code",
   "execution_count": 15,
   "id": "216f2972",
   "metadata": {},
   "outputs": [
    {
     "data": {
      "image/png": "[encoded data removed]",
      "text/plain": [
       "<Figure size 432x288 with 1 Axes>"
      ]
     },
     "metadata": {
      "needs_background": "light"
     },
     "output_type": "display_data"
    }
   ],
   "source": [
    "#checking class column values \n",
    "sb.countplot(data=df,x='Class',palette='pastel')\n",
    "plt.show()"
   ]
  },
  {
   "cell_type": "code",
   "execution_count": 16,
   "id": "121a75ea",
   "metadata": {},
   "outputs": [
    {
     "data": {
      "text/plain": [
       "<AxesSubplot:>"
      ]
     },
     "execution_count": 16,
     "metadata": {},
     "output_type": "execute_result"
    },
    {
     "data": {
      "image/png": "[encoded data removed]",
      "text/plain": [
       "<Figure size 792x648 with 2 Axes>"
      ]
     },
     "metadata": {
      "needs_background": "light"
     },
     "output_type": "display_data"
    }
   ],
   "source": [
    "#checing correlation of input and output \n",
    "plt.subplots(figsize=(11,9))\n",
    "sb.heatmap(df.corr(),vmax=.5, center=0, linewidths=.5, cbar_kws={\"shrink\": .5})"
   ]
  },
  {
   "cell_type": "code",
   "execution_count": 17,
   "id": "d1dd9af3",
   "metadata": {},
   "outputs": [],
   "source": [
    "#looking at above heatmap The top 3 independent variables {V17, V14, V12} ,\n",
    "#that should contains important information about whether a giving credit card transaction is fraudulent or not"
   ]
  },
  {
   "cell_type": "code",
   "execution_count": 18,
   "id": "95760a61",
   "metadata": {},
   "outputs": [
    {
     "data": {
      "image/png": "[encoded data removed]",
      "text/plain": [
       "<Figure size 432x288 with 1 Axes>"
      ]
     },
     "metadata": {
      "needs_background": "light"
     },
     "output_type": "display_data"
    },
    {
     "data": {
      "image/png": "[encoded data removed]",
      "text/plain": [
       "<Figure size 432x288 with 1 Axes>"
      ]
     },
     "metadata": {
      "needs_background": "light"
     },
     "output_type": "display_data"
    },
    {
     "data": {
      "image/png": "[encoded data removed]",
      "text/plain": [
       "<Figure size 432x288 with 1 Axes>"
      ]
     },
     "metadata": {
      "needs_background": "light"
     },
     "output_type": "display_data"
    }
   ],
   "source": [
    "var=['V17','V14','V12']\n",
    "for i in var:\n",
    "    sb.kdeplot(data=df[df['Class']==0][i], label='Normal',shade=True)\n",
    "    sb.kdeplot(data=df[df['Class']==1][i], label='Fruad',shade=True)\n",
    "    plt.legend()\n",
    "    plt.show()\n",
    "    "
   ]
  },
  {
   "cell_type": "code",
   "execution_count": 19,
   "id": "707001f3",
   "metadata": {},
   "outputs": [
    {
     "data": {
      "image/png": "[encoded data removed]",
      "text/plain": [
       "<Figure size 1080x432 with 2 Axes>"
      ]
     },
     "metadata": {
      "needs_background": "light"
     },
     "output_type": "display_data"
    }
   ],
   "source": [
    "#Deeper look into time and amount\n",
    "f, ax = plt.subplots(1,2,figsize=(15,6))\n",
    "sb.distplot(df['Amount'].values,ax=ax[0],color='r')\n",
    "sb.distplot(df['Time'].values,ax=ax[1],color='b')\n",
    "ax[0].set_title(\"Distribution of transaction Amount\",fontsize=14)\n",
    "ax[1].set_title(\"Distribution of transaction Time\",fontsize=14)\n",
    "plt.show()\n"
   ]
  },
  {
   "cell_type": "code",
   "execution_count": 20,
   "id": "9a125b03",
   "metadata": {},
   "outputs": [
    {
     "data": {
      "image/png": "[encoded data removed]",
      "text/plain": [
       "<Figure size 1080x432 with 2 Axes>"
      ]
     },
     "metadata": {
      "needs_background": "light"
     },
     "output_type": "display_data"
    }
   ],
   "source": [
    "#transaction time for ganuine user vs transaction time of fraudlent user \n",
    "f,ax=plt.subplots(1,2,figsize=(15,6))\n",
    "nofraud=df[df['Class']==0]\n",
    "fraud=df[df['Class']==1]\n",
    "sb.distplot(nofraud['Time']/60/60,ax=ax[0],color='b')\n",
    "sb.distplot(fraud['Time']/60/60,ax=ax[1],color='r')\n",
    "ax[0].set_title(\"Number of transaction vs time after first transaction for Genuine user\")\n",
    "ax[1].set_title(\"Number of transaction vs time after first transaction for non-genuine user\")\n",
    "plt.show()"
   ]
  },
  {
   "cell_type": "code",
   "execution_count": 21,
   "id": "3e018b4b",
   "metadata": {},
   "outputs": [
    {
     "data": {
      "text/plain": [
       "<AxesSubplot:xlabel='Amount'>"
      ]
     },
     "execution_count": 21,
     "metadata": {},
     "output_type": "execute_result"
    },
    {
     "data": {
      "image/png": "[encoded data removed]",
      "text/plain": [
       "<Figure size 432x288 with 1 Axes>"
      ]
     },
     "metadata": {
      "needs_background": "light"
     },
     "output_type": "display_data"
    }
   ],
   "source": [
    "#checking outlier in amount column \n",
    "sb.boxplot(df.Amount)"
   ]
  },
  {
   "cell_type": "code",
   "execution_count": 22,
   "id": "78eac039",
   "metadata": {},
   "outputs": [],
   "source": [
    "#here there is outlier in data, but as we have few record of fraudulent user we will not remove outlier\n",
    "#but yes we can remove extreme outlier"
   ]
  },
  {
   "cell_type": "code",
   "execution_count": 23,
   "id": "925ce191",
   "metadata": {},
   "outputs": [],
   "source": [
    "#data scaling \n",
    "#here amount column dont have same scale value with other feature \n",
    "#we will apply standard scaler on amount column \n",
    "from sklearn.preprocessing import StandardScaler\n"
   ]
  },
  {
   "cell_type": "code",
   "execution_count": 24,
   "id": "05e4c11d",
   "metadata": {},
   "outputs": [],
   "source": [
    "#creating object of standardscaler class\n",
    "ss=StandardScaler()\n"
   ]
  },
  {
   "cell_type": "code",
   "execution_count": 25,
   "id": "e22f5a2c",
   "metadata": {},
   "outputs": [],
   "source": [
    "df['Amount']=ss.fit_transform(df['Amount'].values.reshape(-1,1))"
   ]
  },
  {
   "cell_type": "code",
   "execution_count": 26,
   "id": "80ff9784",
   "metadata": {},
   "outputs": [
    {
     "data": {
      "text/html": [
       "<div>\n",
       "<style scoped>\n",
       "    .dataframe tbody tr th:only-of-type {\n",
       "        vertical-align: middle;\n",
       "    }\n",
       "\n",
       "    .dataframe tbody tr th {\n",
       "        vertical-align: top;\n",
       "    }\n",
       "\n",
       "    .dataframe thead th {\n",
       "        text-align: right;\n",
       "    }\n",
       "</style>\n",
       "<table border=\"1\" class=\"dataframe\">\n",
       "  <thead>\n",
       "    <tr style=\"text-align: right;\">\n",
       "      <th></th>\n",
       "      <th>Time</th>\n",
       "      <th>V1</th>\n",
       "      <th>V2</th>\n",
       "      <th>V3</th>\n",
       "      <th>V4</th>\n",
       "      <th>V5</th>\n",
       "      <th>V6</th>\n",
       "      <th>V7</th>\n",
       "      <th>V8</th>\n",
       "      <th>V9</th>\n",
       "      <th>...</th>\n",
       "      <th>V21</th>\n",
       "      <th>V22</th>\n",
       "      <th>V23</th>\n",
       "      <th>V24</th>\n",
       "      <th>V25</th>\n",
       "      <th>V26</th>\n",
       "      <th>V27</th>\n",
       "      <th>V28</th>\n",
       "      <th>Amount</th>\n",
       "      <th>Class</th>\n",
       "    </tr>\n",
       "  </thead>\n",
       "  <tbody>\n",
       "    <tr>\n",
       "      <th>0</th>\n",
       "      <td>0.0</td>\n",
       "      <td>-1.359807</td>\n",
       "      <td>-0.072781</td>\n",
       "      <td>2.536347</td>\n",
       "      <td>1.378155</td>\n",
       "      <td>-0.338321</td>\n",
       "      <td>0.462388</td>\n",
       "      <td>0.239599</td>\n",
       "      <td>0.098698</td>\n",
       "      <td>0.363787</td>\n",
       "      <td>...</td>\n",
       "      <td>-0.018307</td>\n",
       "      <td>0.277838</td>\n",
       "      <td>-0.110474</td>\n",
       "      <td>0.066928</td>\n",
       "      <td>0.128539</td>\n",
       "      <td>-0.189115</td>\n",
       "      <td>0.133558</td>\n",
       "      <td>-0.021053</td>\n",
       "      <td>0.244200</td>\n",
       "      <td>0</td>\n",
       "    </tr>\n",
       "    <tr>\n",
       "      <th>1</th>\n",
       "      <td>0.0</td>\n",
       "      <td>1.191857</td>\n",
       "      <td>0.266151</td>\n",
       "      <td>0.166480</td>\n",
       "      <td>0.448154</td>\n",
       "      <td>0.060018</td>\n",
       "      <td>-0.082361</td>\n",
       "      <td>-0.078803</td>\n",
       "      <td>0.085102</td>\n",
       "      <td>-0.255425</td>\n",
       "      <td>...</td>\n",
       "      <td>-0.225775</td>\n",
       "      <td>-0.638672</td>\n",
       "      <td>0.101288</td>\n",
       "      <td>-0.339846</td>\n",
       "      <td>0.167170</td>\n",
       "      <td>0.125895</td>\n",
       "      <td>-0.008983</td>\n",
       "      <td>0.014724</td>\n",
       "      <td>-0.342584</td>\n",
       "      <td>0</td>\n",
       "    </tr>\n",
       "    <tr>\n",
       "      <th>2</th>\n",
       "      <td>1.0</td>\n",
       "      <td>-1.358354</td>\n",
       "      <td>-1.340163</td>\n",
       "      <td>1.773209</td>\n",
       "      <td>0.379780</td>\n",
       "      <td>-0.503198</td>\n",
       "      <td>1.800499</td>\n",
       "      <td>0.791461</td>\n",
       "      <td>0.247676</td>\n",
       "      <td>-1.514654</td>\n",
       "      <td>...</td>\n",
       "      <td>0.247998</td>\n",
       "      <td>0.771679</td>\n",
       "      <td>0.909412</td>\n",
       "      <td>-0.689281</td>\n",
       "      <td>-0.327642</td>\n",
       "      <td>-0.139097</td>\n",
       "      <td>-0.055353</td>\n",
       "      <td>-0.059752</td>\n",
       "      <td>1.158900</td>\n",
       "      <td>0</td>\n",
       "    </tr>\n",
       "    <tr>\n",
       "      <th>3</th>\n",
       "      <td>1.0</td>\n",
       "      <td>-0.966272</td>\n",
       "      <td>-0.185226</td>\n",
       "      <td>1.792993</td>\n",
       "      <td>-0.863291</td>\n",
       "      <td>-0.010309</td>\n",
       "      <td>1.247203</td>\n",
       "      <td>0.237609</td>\n",
       "      <td>0.377436</td>\n",
       "      <td>-1.387024</td>\n",
       "      <td>...</td>\n",
       "      <td>-0.108300</td>\n",
       "      <td>0.005274</td>\n",
       "      <td>-0.190321</td>\n",
       "      <td>-1.175575</td>\n",
       "      <td>0.647376</td>\n",
       "      <td>-0.221929</td>\n",
       "      <td>0.062723</td>\n",
       "      <td>0.061458</td>\n",
       "      <td>0.139886</td>\n",
       "      <td>0</td>\n",
       "    </tr>\n",
       "    <tr>\n",
       "      <th>4</th>\n",
       "      <td>2.0</td>\n",
       "      <td>-1.158233</td>\n",
       "      <td>0.877737</td>\n",
       "      <td>1.548718</td>\n",
       "      <td>0.403034</td>\n",
       "      <td>-0.407193</td>\n",
       "      <td>0.095921</td>\n",
       "      <td>0.592941</td>\n",
       "      <td>-0.270533</td>\n",
       "      <td>0.817739</td>\n",
       "      <td>...</td>\n",
       "      <td>-0.009431</td>\n",
       "      <td>0.798278</td>\n",
       "      <td>-0.137458</td>\n",
       "      <td>0.141267</td>\n",
       "      <td>-0.206010</td>\n",
       "      <td>0.502292</td>\n",
       "      <td>0.219422</td>\n",
       "      <td>0.215153</td>\n",
       "      <td>-0.073813</td>\n",
       "      <td>0</td>\n",
       "    </tr>\n",
       "  </tbody>\n",
       "</table>\n",
       "<p>5 rows × 31 columns</p>\n",
       "</div>"
      ],
      "text/plain": [
       "   Time        V1        V2        V3        V4        V5        V6        V7  \\\n",
       "0   0.0 -1.359807 -0.072781  2.536347  1.378155 -0.338321  0.462388  0.239599   \n",
       "1   0.0  1.191857  0.266151  0.166480  0.448154  0.060018 -0.082361 -0.078803   \n",
       "2   1.0 -1.358354 -1.340163  1.773209  0.379780 -0.503198  1.800499  0.791461   \n",
       "3   1.0 -0.966272 -0.185226  1.792993 -0.863291 -0.010309  1.247203  0.237609   \n",
       "4   2.0 -1.158233  0.877737  1.548718  0.403034 -0.407193  0.095921  0.592941   \n",
       "\n",
       "         V8        V9  ...       V21       V22       V23       V24       V25  \\\n",
       "0  0.098698  0.363787  ... -0.018307  0.277838 -0.110474  0.066928  0.128539   \n",
       "1  0.085102 -0.255425  ... -0.225775 -0.638672  0.101288 -0.339846  0.167170   \n",
       "2  0.247676 -1.514654  ...  0.247998  0.771679  0.909412 -0.689281 -0.327642   \n",
       "3  0.377436 -1.387024  ... -0.108300  0.005274 -0.190321 -1.175575  0.647376   \n",
       "4 -0.270533  0.817739  ... -0.009431  0.798278 -0.137458  0.141267 -0.206010   \n",
       "\n",
       "        V26       V27       V28    Amount  Class  \n",
       "0 -0.189115  0.133558 -0.021053  0.244200      0  \n",
       "1  0.125895 -0.008983  0.014724 -0.342584      0  \n",
       "2 -0.139097 -0.055353 -0.059752  1.158900      0  \n",
       "3 -0.221929  0.062723  0.061458  0.139886      0  \n",
       "4  0.502292  0.219422  0.215153 -0.073813      0  \n",
       "\n",
       "[5 rows x 31 columns]"
      ]
     },
     "execution_count": 26,
     "metadata": {},
     "output_type": "execute_result"
    }
   ],
   "source": [
    "df.head()"
   ]
  },
  {
   "cell_type": "code",
   "execution_count": 27,
   "id": "89740735",
   "metadata": {},
   "outputs": [],
   "source": [
    "#selecting input and output \n",
    "X=df.drop(\"Class\",axis=1)\n",
    "Y=df['Class']"
   ]
  },
  {
   "cell_type": "code",
   "execution_count": 28,
   "id": "3cf08ce4",
   "metadata": {},
   "outputs": [],
   "source": [
    "#here we have very unbalanced data \n",
    "#balancing the data \n",
    "#to use imblearn module 1st install it \n",
    "#!pip install imblearn\n"
   ]
  },
  {
   "cell_type": "code",
   "execution_count": 30,
   "id": "630a5945",
   "metadata": {},
   "outputs": [],
   "source": [
    "#!pip install sklearn"
   ]
  },
  {
   "cell_type": "code",
   "execution_count": 32,
   "id": "e1496903",
   "metadata": {},
   "outputs": [],
   "source": [
    "from imblearn.over_sampling import SMOTE"
   ]
  },
  {
   "cell_type": "code",
   "execution_count": 33,
   "id": "5725d79c",
   "metadata": {},
   "outputs": [],
   "source": [
    "#CREATING object of smote\n",
    "smt = SMOTE(random_state=42)"
   ]
  },
  {
   "cell_type": "code",
   "execution_count": 34,
   "id": "61dd6d5a",
   "metadata": {},
   "outputs": [],
   "source": [
    "X_resampled,Y_resampeld = smt.fit_resample(X,Y)"
   ]
  },
  {
   "cell_type": "code",
   "execution_count": 36,
   "id": "59372e4d",
   "metadata": {},
   "outputs": [
    {
     "data": {
      "text/html": [
       "<div>\n",
       "<style scoped>\n",
       "    .dataframe tbody tr th:only-of-type {\n",
       "        vertical-align: middle;\n",
       "    }\n",
       "\n",
       "    .dataframe tbody tr th {\n",
       "        vertical-align: top;\n",
       "    }\n",
       "\n",
       "    .dataframe thead th {\n",
       "        text-align: right;\n",
       "    }\n",
       "</style>\n",
       "<table border=\"1\" class=\"dataframe\">\n",
       "  <thead>\n",
       "    <tr style=\"text-align: right;\">\n",
       "      <th></th>\n",
       "      <th>Time</th>\n",
       "      <th>V1</th>\n",
       "      <th>V2</th>\n",
       "      <th>V3</th>\n",
       "      <th>V4</th>\n",
       "      <th>V5</th>\n",
       "      <th>V6</th>\n",
       "      <th>V7</th>\n",
       "      <th>V8</th>\n",
       "      <th>V9</th>\n",
       "      <th>...</th>\n",
       "      <th>V20</th>\n",
       "      <th>V21</th>\n",
       "      <th>V22</th>\n",
       "      <th>V23</th>\n",
       "      <th>V24</th>\n",
       "      <th>V25</th>\n",
       "      <th>V26</th>\n",
       "      <th>V27</th>\n",
       "      <th>V28</th>\n",
       "      <th>Amount</th>\n",
       "    </tr>\n",
       "  </thead>\n",
       "  <tbody>\n",
       "    <tr>\n",
       "      <th>41610</th>\n",
       "      <td>40825.000000</td>\n",
       "      <td>1.156738</td>\n",
       "      <td>-0.181899</td>\n",
       "      <td>0.030421</td>\n",
       "      <td>0.182702</td>\n",
       "      <td>-0.559384</td>\n",
       "      <td>-1.044591</td>\n",
       "      <td>0.102148</td>\n",
       "      <td>-0.099781</td>\n",
       "      <td>0.288172</td>\n",
       "      <td>...</td>\n",
       "      <td>-0.167801</td>\n",
       "      <td>-0.031826</td>\n",
       "      <td>-0.241735</td>\n",
       "      <td>0.026237</td>\n",
       "      <td>0.426945</td>\n",
       "      <td>0.223739</td>\n",
       "      <td>1.020533</td>\n",
       "      <td>-0.106855</td>\n",
       "      <td>-0.000801</td>\n",
       "      <td>-0.153845</td>\n",
       "    </tr>\n",
       "    <tr>\n",
       "      <th>223865</th>\n",
       "      <td>143921.000000</td>\n",
       "      <td>1.882045</td>\n",
       "      <td>-0.499051</td>\n",
       "      <td>-1.494708</td>\n",
       "      <td>0.313994</td>\n",
       "      <td>-0.231542</td>\n",
       "      <td>-1.276645</td>\n",
       "      <td>0.275833</td>\n",
       "      <td>-0.371519</td>\n",
       "      <td>0.552662</td>\n",
       "      <td>...</td>\n",
       "      <td>-0.036824</td>\n",
       "      <td>0.256046</td>\n",
       "      <td>0.568700</td>\n",
       "      <td>-0.056026</td>\n",
       "      <td>-0.054202</td>\n",
       "      <td>0.004272</td>\n",
       "      <td>0.785494</td>\n",
       "      <td>-0.117107</td>\n",
       "      <td>-0.054626</td>\n",
       "      <td>0.105461</td>\n",
       "    </tr>\n",
       "    <tr>\n",
       "      <th>248742</th>\n",
       "      <td>154518.000000</td>\n",
       "      <td>-1.264106</td>\n",
       "      <td>0.855546</td>\n",
       "      <td>1.747340</td>\n",
       "      <td>-0.416281</td>\n",
       "      <td>-0.460319</td>\n",
       "      <td>-0.192709</td>\n",
       "      <td>0.024039</td>\n",
       "      <td>0.598917</td>\n",
       "      <td>-0.173395</td>\n",
       "      <td>...</td>\n",
       "      <td>-0.209332</td>\n",
       "      <td>-0.083144</td>\n",
       "      <td>-0.383693</td>\n",
       "      <td>-0.038985</td>\n",
       "      <td>0.020062</td>\n",
       "      <td>0.287501</td>\n",
       "      <td>-0.442884</td>\n",
       "      <td>-0.162954</td>\n",
       "      <td>-0.022703</td>\n",
       "      <td>-0.276689</td>\n",
       "    </tr>\n",
       "    <tr>\n",
       "      <th>229363</th>\n",
       "      <td>146237.000000</td>\n",
       "      <td>0.805539</td>\n",
       "      <td>0.628408</td>\n",
       "      <td>-2.481305</td>\n",
       "      <td>-0.176980</td>\n",
       "      <td>0.841448</td>\n",
       "      <td>-0.774148</td>\n",
       "      <td>0.984896</td>\n",
       "      <td>-2.146519</td>\n",
       "      <td>-0.217337</td>\n",
       "      <td>...</td>\n",
       "      <td>-0.605579</td>\n",
       "      <td>1.988898</td>\n",
       "      <td>0.967783</td>\n",
       "      <td>-0.359878</td>\n",
       "      <td>-0.391906</td>\n",
       "      <td>-0.159512</td>\n",
       "      <td>-0.029944</td>\n",
       "      <td>0.446224</td>\n",
       "      <td>0.381845</td>\n",
       "      <td>0.153864</td>\n",
       "    </tr>\n",
       "    <tr>\n",
       "      <th>534208</th>\n",
       "      <td>100448.362407</td>\n",
       "      <td>-22.736496</td>\n",
       "      <td>15.815168</td>\n",
       "      <td>-22.707815</td>\n",
       "      <td>7.653853</td>\n",
       "      <td>-14.674884</td>\n",
       "      <td>0.271728</td>\n",
       "      <td>-29.421906</td>\n",
       "      <td>-16.277690</td>\n",
       "      <td>-9.808379</td>\n",
       "      <td>...</td>\n",
       "      <td>4.509440</td>\n",
       "      <td>-9.952212</td>\n",
       "      <td>4.546857</td>\n",
       "      <td>1.734140</td>\n",
       "      <td>0.414173</td>\n",
       "      <td>-0.046678</td>\n",
       "      <td>-0.591216</td>\n",
       "      <td>-4.439236</td>\n",
       "      <td>-0.435844</td>\n",
       "      <td>-0.349333</td>\n",
       "    </tr>\n",
       "    <tr>\n",
       "      <th>4753</th>\n",
       "      <td>4253.000000</td>\n",
       "      <td>-0.231105</td>\n",
       "      <td>1.421676</td>\n",
       "      <td>1.820595</td>\n",
       "      <td>2.930910</td>\n",
       "      <td>0.304631</td>\n",
       "      <td>0.508886</td>\n",
       "      <td>0.281243</td>\n",
       "      <td>0.148131</td>\n",
       "      <td>-0.430039</td>\n",
       "      <td>...</td>\n",
       "      <td>0.249652</td>\n",
       "      <td>-0.060079</td>\n",
       "      <td>0.221684</td>\n",
       "      <td>0.032017</td>\n",
       "      <td>0.170169</td>\n",
       "      <td>-0.481504</td>\n",
       "      <td>0.078544</td>\n",
       "      <td>0.331048</td>\n",
       "      <td>0.125359</td>\n",
       "      <td>-0.313391</td>\n",
       "    </tr>\n",
       "    <tr>\n",
       "      <th>312534</th>\n",
       "      <td>146126.582874</td>\n",
       "      <td>0.258286</td>\n",
       "      <td>3.783047</td>\n",
       "      <td>-6.242230</td>\n",
       "      <td>6.858230</td>\n",
       "      <td>0.414421</td>\n",
       "      <td>-2.555589</td>\n",
       "      <td>-1.850352</td>\n",
       "      <td>0.632788</td>\n",
       "      <td>-3.518234</td>\n",
       "      <td>...</td>\n",
       "      <td>0.426762</td>\n",
       "      <td>0.412707</td>\n",
       "      <td>-0.445731</td>\n",
       "      <td>-0.021963</td>\n",
       "      <td>-0.314847</td>\n",
       "      <td>-0.173401</td>\n",
       "      <td>0.381012</td>\n",
       "      <td>0.593859</td>\n",
       "      <td>0.295454</td>\n",
       "      <td>-0.349705</td>\n",
       "    </tr>\n",
       "    <tr>\n",
       "      <th>441337</th>\n",
       "      <td>138910.186516</td>\n",
       "      <td>-1.655189</td>\n",
       "      <td>1.880070</td>\n",
       "      <td>-5.138751</td>\n",
       "      <td>1.463084</td>\n",
       "      <td>-1.172710</td>\n",
       "      <td>0.154089</td>\n",
       "      <td>-1.874261</td>\n",
       "      <td>1.337583</td>\n",
       "      <td>-2.317072</td>\n",
       "      <td>...</td>\n",
       "      <td>0.231664</td>\n",
       "      <td>1.070091</td>\n",
       "      <td>1.111519</td>\n",
       "      <td>0.145069</td>\n",
       "      <td>-0.424918</td>\n",
       "      <td>-0.391598</td>\n",
       "      <td>0.594135</td>\n",
       "      <td>0.807567</td>\n",
       "      <td>0.273505</td>\n",
       "      <td>0.626996</td>\n",
       "    </tr>\n",
       "    <tr>\n",
       "      <th>494585</th>\n",
       "      <td>139903.858507</td>\n",
       "      <td>-2.053430</td>\n",
       "      <td>0.112222</td>\n",
       "      <td>-5.808077</td>\n",
       "      <td>2.202609</td>\n",
       "      <td>-1.587797</td>\n",
       "      <td>0.424810</td>\n",
       "      <td>-1.811085</td>\n",
       "      <td>1.406682</td>\n",
       "      <td>-1.686064</td>\n",
       "      <td>...</td>\n",
       "      <td>1.810263</td>\n",
       "      <td>1.324245</td>\n",
       "      <td>0.896642</td>\n",
       "      <td>0.957493</td>\n",
       "      <td>-2.002838</td>\n",
       "      <td>0.460641</td>\n",
       "      <td>0.172129</td>\n",
       "      <td>0.758811</td>\n",
       "      <td>0.269764</td>\n",
       "      <td>1.918262</td>\n",
       "    </tr>\n",
       "    <tr>\n",
       "      <th>471130</th>\n",
       "      <td>129665.819794</td>\n",
       "      <td>-1.530163</td>\n",
       "      <td>3.183803</td>\n",
       "      <td>-6.487788</td>\n",
       "      <td>4.080517</td>\n",
       "      <td>-0.405808</td>\n",
       "      <td>-1.766788</td>\n",
       "      <td>-0.286772</td>\n",
       "      <td>0.311046</td>\n",
       "      <td>-2.074317</td>\n",
       "      <td>...</td>\n",
       "      <td>-0.147352</td>\n",
       "      <td>0.000652</td>\n",
       "      <td>-0.547060</td>\n",
       "      <td>0.102073</td>\n",
       "      <td>-0.538016</td>\n",
       "      <td>0.438021</td>\n",
       "      <td>-0.245326</td>\n",
       "      <td>0.434175</td>\n",
       "      <td>-0.164913</td>\n",
       "      <td>0.732847</td>\n",
       "    </tr>\n",
       "  </tbody>\n",
       "</table>\n",
       "<p>10 rows × 30 columns</p>\n",
       "</div>"
      ],
      "text/plain": [
       "                 Time         V1         V2         V3        V4         V5  \\\n",
       "41610    40825.000000   1.156738  -0.181899   0.030421  0.182702  -0.559384   \n",
       "223865  143921.000000   1.882045  -0.499051  -1.494708  0.313994  -0.231542   \n",
       "248742  154518.000000  -1.264106   0.855546   1.747340 -0.416281  -0.460319   \n",
       "229363  146237.000000   0.805539   0.628408  -2.481305 -0.176980   0.841448   \n",
       "534208  100448.362407 -22.736496  15.815168 -22.707815  7.653853 -14.674884   \n",
       "4753      4253.000000  -0.231105   1.421676   1.820595  2.930910   0.304631   \n",
       "312534  146126.582874   0.258286   3.783047  -6.242230  6.858230   0.414421   \n",
       "441337  138910.186516  -1.655189   1.880070  -5.138751  1.463084  -1.172710   \n",
       "494585  139903.858507  -2.053430   0.112222  -5.808077  2.202609  -1.587797   \n",
       "471130  129665.819794  -1.530163   3.183803  -6.487788  4.080517  -0.405808   \n",
       "\n",
       "              V6         V7         V8        V9  ...       V20       V21  \\\n",
       "41610  -1.044591   0.102148  -0.099781  0.288172  ... -0.167801 -0.031826   \n",
       "223865 -1.276645   0.275833  -0.371519  0.552662  ... -0.036824  0.256046   \n",
       "248742 -0.192709   0.024039   0.598917 -0.173395  ... -0.209332 -0.083144   \n",
       "229363 -0.774148   0.984896  -2.146519 -0.217337  ... -0.605579  1.988898   \n",
       "534208  0.271728 -29.421906 -16.277690 -9.808379  ...  4.509440 -9.952212   \n",
       "4753    0.508886   0.281243   0.148131 -0.430039  ...  0.249652 -0.060079   \n",
       "312534 -2.555589  -1.850352   0.632788 -3.518234  ...  0.426762  0.412707   \n",
       "441337  0.154089  -1.874261   1.337583 -2.317072  ...  0.231664  1.070091   \n",
       "494585  0.424810  -1.811085   1.406682 -1.686064  ...  1.810263  1.324245   \n",
       "471130 -1.766788  -0.286772   0.311046 -2.074317  ... -0.147352  0.000652   \n",
       "\n",
       "             V22       V23       V24       V25       V26       V27       V28  \\\n",
       "41610  -0.241735  0.026237  0.426945  0.223739  1.020533 -0.106855 -0.000801   \n",
       "223865  0.568700 -0.056026 -0.054202  0.004272  0.785494 -0.117107 -0.054626   \n",
       "248742 -0.383693 -0.038985  0.020062  0.287501 -0.442884 -0.162954 -0.022703   \n",
       "229363  0.967783 -0.359878 -0.391906 -0.159512 -0.029944  0.446224  0.381845   \n",
       "534208  4.546857  1.734140  0.414173 -0.046678 -0.591216 -4.439236 -0.435844   \n",
       "4753    0.221684  0.032017  0.170169 -0.481504  0.078544  0.331048  0.125359   \n",
       "312534 -0.445731 -0.021963 -0.314847 -0.173401  0.381012  0.593859  0.295454   \n",
       "441337  1.111519  0.145069 -0.424918 -0.391598  0.594135  0.807567  0.273505   \n",
       "494585  0.896642  0.957493 -2.002838  0.460641  0.172129  0.758811  0.269764   \n",
       "471130 -0.547060  0.102073 -0.538016  0.438021 -0.245326  0.434175 -0.164913   \n",
       "\n",
       "          Amount  \n",
       "41610  -0.153845  \n",
       "223865  0.105461  \n",
       "248742 -0.276689  \n",
       "229363  0.153864  \n",
       "534208 -0.349333  \n",
       "4753   -0.313391  \n",
       "312534 -0.349705  \n",
       "441337  0.626996  \n",
       "494585  1.918262  \n",
       "471130  0.732847  \n",
       "\n",
       "[10 rows x 30 columns]"
      ]
     },
     "execution_count": 36,
     "metadata": {},
     "output_type": "execute_result"
    }
   ],
   "source": [
    "X_resampled.sample(10)"
   ]
  },
  {
   "cell_type": "code",
   "execution_count": 42,
   "id": "ba7662cb",
   "metadata": {},
   "outputs": [
    {
     "data": {
      "image/png": "[encoded data removed]",
      "text/plain": [
       "<Figure size 432x288 with 1 Axes>"
      ]
     },
     "metadata": {},
     "output_type": "display_data"
    }
   ],
   "source": [
    "#visualyzing data distribution \n",
    "plt.pie(Y_resampeld.value_counts(),autopct=\"%1.01f%%\")\n",
    "plt.show()"
   ]
  },
  {
   "cell_type": "code",
   "execution_count": 43,
   "id": "e23e5e8b",
   "metadata": {},
   "outputs": [],
   "source": [
    "#now spliting the data to train test split \n",
    "from sklearn.model_selection import train_test_split\n"
   ]
  },
  {
   "cell_type": "code",
   "execution_count": 44,
   "id": "432c95cf",
   "metadata": {},
   "outputs": [],
   "source": [
    "X_train,X_test,Y_train,Y_test = train_test_split(X_resampled,Y_resampeld,test_size=0.3,random_state=1)"
   ]
  },
  {
   "cell_type": "code",
   "execution_count": 45,
   "id": "3ff4c0ba",
   "metadata": {},
   "outputs": [
    {
     "name": "stdout",
     "output_type": "stream",
     "text": [
      "(396554, 30)\n",
      "(169952, 30)\n",
      "(396554,)\n",
      "(169952,)\n"
     ]
    }
   ],
   "source": [
    "print(X_train.shape)\n",
    "print(X_test.shape)\n",
    "print(Y_train.shape)\n",
    "print(Y_test.shape)"
   ]
  },
  {
   "cell_type": "code",
   "execution_count": 52,
   "id": "62892b32",
   "metadata": {},
   "outputs": [],
   "source": [
    "#creating a function of repeating codes \n",
    "def create_model(model):\n",
    "    #train the model with 70% data\n",
    "    model.fit(X_train,Y_train)\n",
    "    #test the model with 30% data \n",
    "    Y_pred = model.predict(X_test)\n",
    "    \n",
    "    #generate report \n",
    "    print(classification_report(Y_pred,Y_test))\n",
    "    plot_confusion_matrix(model,X_test,Y_test)\n",
    "    plt.title(\"Confusion matrix\")\n",
    "    plt.show()\n",
    "    return model"
   ]
  },
  {
   "cell_type": "code",
   "execution_count": 53,
   "id": "816c76f5",
   "metadata": {},
   "outputs": [],
   "source": [
    "from sklearn.metrics import plot_confusion_matrix,classification_report,confusion_matrix"
   ]
  },
  {
   "cell_type": "code",
   "execution_count": 54,
   "id": "72d72743",
   "metadata": {},
   "outputs": [],
   "source": [
    "#mow calling the function using LogisticRegression\n",
    "from sklearn.linear_model import LogisticRegression"
   ]
  },
  {
   "cell_type": "code",
   "execution_count": 55,
   "id": "ca22eb8e",
   "metadata": {},
   "outputs": [],
   "source": [
    "#creatiing the object of class logisticregression \n",
    "lr=LogisticRegression(C=100)"
   ]
  },
  {
   "cell_type": "code",
   "execution_count": 56,
   "id": "e60fbc2a",
   "metadata": {},
   "outputs": [
    {
     "name": "stdout",
     "output_type": "stream",
     "text": [
      "              precision    recall  f1-score   support\n",
      "\n",
      "           0       0.98      0.96      0.97     86638\n",
      "           1       0.96      0.98      0.97     83314\n",
      "\n",
      "    accuracy                           0.97    169952\n",
      "   macro avg       0.97      0.97      0.97    169952\n",
      "weighted avg       0.97      0.97      0.97    169952\n",
      "\n"
     ]
    },
    {
     "data": {
      "image/png": "[encoded data removed]",
      "text/plain": [
       "<Figure size 432x288 with 2 Axes>"
      ]
     },
     "metadata": {
      "needs_background": "light"
     },
     "output_type": "display_data"
    }
   ],
   "source": [
    "lr=create_model(lr)"
   ]
  },
  {
   "cell_type": "code",
   "execution_count": 58,
   "id": "56990cad",
   "metadata": {},
   "outputs": [],
   "source": [
    "#now calling the function using Desicion Tree classifier\n",
    "from sklearn.tree import DecisionTreeClassifier"
   ]
  },
  {
   "cell_type": "code",
   "execution_count": 60,
   "id": "0b5aefc9",
   "metadata": {},
   "outputs": [],
   "source": [
    "#creating object of class decisiontreeclassifier\n",
    "dtc = DecisionTreeClassifier(max_features=8,max_depth=6)"
   ]
  },
  {
   "cell_type": "code",
   "execution_count": 61,
   "id": "19551c63",
   "metadata": {},
   "outputs": [
    {
     "name": "stdout",
     "output_type": "stream",
     "text": [
      "              precision    recall  f1-score   support\n",
      "\n",
      "           0       0.99      0.95      0.97     88111\n",
      "           1       0.95      0.99      0.97     81841\n",
      "\n",
      "    accuracy                           0.97    169952\n",
      "   macro avg       0.97      0.97      0.97    169952\n",
      "weighted avg       0.97      0.97      0.97    169952\n",
      "\n"
     ]
    },
    {
     "data": {
      "image/png": "[encoded data removed]",
      "text/plain": [
       "<Figure size 432x288 with 2 Axes>"
      ]
     },
     "metadata": {
      "needs_background": "light"
     },
     "output_type": "display_data"
    }
   ],
   "source": [
    "dtc=create_model(dtc)"
   ]
  },
  {
   "cell_type": "code",
   "execution_count": 64,
   "id": "082d9fb5",
   "metadata": {},
   "outputs": [],
   "source": [
    "cols = X.columns\n",
    "fi = pd.DataFrame(dtc.feature_importances_,index=cols).sort_values(by=0,ascending=False)"
   ]
  },
  {
   "cell_type": "code",
   "execution_count": 70,
   "id": "7e02991b",
   "metadata": {},
   "outputs": [
    {
     "data": {
      "image/png": "[encoded data removed]",
      "text/plain": [
       "<Figure size 432x288 with 2 Axes>"
      ]
     },
     "metadata": {
      "needs_background": "light"
     },
     "output_type": "display_data"
    }
   ],
   "source": [
    "sb.heatmap(fi.head())\n",
    "plt.show()"
   ]
  },
  {
   "cell_type": "code",
   "execution_count": null,
   "id": "c2a3a6a5",
   "metadata": {},
   "outputs": [],
   "source": []
  }
 ],
 "metadata": {
  "kernelspec": {
   "display_name": "Python 3 (ipykernel)",
   "language": "python",
   "name": "python3"
  },
  "language_info": {
   "codemirror_mode": {
    "name": "ipython",
    "version": 3
   },
   "file_extension": ".py",
   "mimetype": "text/x-python",
   "name": "python",
   "nbconvert_exporter": "python",
   "pygments_lexer": "ipython3",
   "version": "3.9.12"
  }
 },
 "nbformat": 4,
 "nbformat_minor": 5
}
